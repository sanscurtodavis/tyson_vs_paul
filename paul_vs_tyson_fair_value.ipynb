{
  "nbformat": 4,
  "nbformat_minor": 0,
  "metadata": {
    "colab": {
      "provenance": [],
      "authorship_tag": "ABX9TyOZRFzKH6ruAopTaMV7/UFO",
      "include_colab_link": true
    },
    "kernelspec": {
      "name": "python3",
      "display_name": "Python 3"
    },
    "language_info": {
      "name": "python"
    }
  },
  "cells": [
    {
      "cell_type": "markdown",
      "metadata": {
        "id": "view-in-github",
        "colab_type": "text"
      },
      "source": [
        "<a href=\"https://colab.research.google.com/github/sanscurtodavis/tyson_vs_paul/blob/main/paul_vs_tyson_fair_value.ipynb\" target=\"_parent\"><img src=\"https://colab.research.google.com/assets/colab-badge.svg\" alt=\"Open In Colab\"/></a>"
      ]
    },
    {
      "cell_type": "markdown",
      "source": [
        "## Import Modules"
      ],
      "metadata": {
        "id": "05XjXMX5NvfM"
      }
    },
    {
      "cell_type": "code",
      "source": [
        "import numpy as np\n",
        "from sklearn.preprocessing import MinMaxScaler"
      ],
      "metadata": {
        "id": "UPTsq4R5NtrB"
      },
      "execution_count": null,
      "outputs": []
    },
    {
      "cell_type": "markdown",
      "source": [
        "## Create Functions"
      ],
      "metadata": {
        "id": "7jcNMMZ_NxQ1"
      }
    },
    {
      "cell_type": "code",
      "execution_count": null,
      "metadata": {
        "id": "N1l5SZyBHWmf"
      },
      "outputs": [],
      "source": [
        "# Function to calculate the fighter score based on performance stats\n",
        "def fighter_score(wins, kos, losses, age, height, reach, experience_factor=1):\n",
        "    score = (wins * 2) + (kos * 3) - (losses * 1)\n",
        "\n",
        "    # Age penalty (older age decreases the score)\n",
        "    age_penalty = max(0, (age - 30) * 0.6)\n",
        "    score -= age_penalty\n",
        "\n",
        "    # Reach and height advantage\n",
        "    reach_advantage = (reach - 71) * 0.2\n",
        "    score += reach_advantage\n",
        "\n",
        "    height_advantage = (height - 170) * 0.2\n",
        "    score += height_advantage\n",
        "\n",
        "    # Apply the experience factor multiplier\n",
        "    score *= experience_factor\n",
        "\n",
        "    return score\n",
        "\n",
        "# Function to calculate implied probabilities from betting odds\n",
        "def implied_probability(odds):\n",
        "    if odds > 0:\n",
        "        return 100 / (odds + 100)  # for positive odds\n",
        "    else:\n",
        "        return -odds / (-odds + 100)  # for negative odds\n",
        "\n",
        "# Function to calculate the fair value probability\n",
        "def calculate_fair_value_probability(tyson_score, paul_score, tyson_odds, paul_odds):\n",
        "    # Normalize the fighter scores\n",
        "    scaler = MinMaxScaler()\n",
        "    scaled_scores = scaler.fit_transform(np.array([[tyson_score], [paul_score]]))  # Scaling both scores\n",
        "    normalized_tyson_score = scaled_scores[0][0]\n",
        "    normalized_paul_score = scaled_scores[1][0]\n",
        "\n",
        "    # Calculate implied probabilities from the betting odds\n",
        "    implied_prob_tyson = implied_probability(tyson_odds)\n",
        "    implied_prob_paul = implied_probability(paul_odds)\n",
        "\n",
        "    # Combine the normalized scores with implied probabilities (50% each)\n",
        "    tyson_combined = (normalized_tyson_score + implied_prob_tyson) / 2\n",
        "    paul_combined = (normalized_paul_score + implied_prob_paul) / 2\n",
        "\n",
        "    # Normalize combined probabilities to ensure they sum to 1\n",
        "    total_combined = tyson_combined + paul_combined\n",
        "    tyson_prob = tyson_combined / total_combined\n",
        "    paul_prob = paul_combined / total_combined\n",
        "\n",
        "    return tyson_prob, paul_prob"
      ]
    },
    {
      "cell_type": "markdown",
      "source": [
        "## Input Data"
      ],
      "metadata": {
        "id": "X7nLG7k8N2N8"
      }
    },
    {
      "cell_type": "code",
      "source": [
        "# Tyson's data (Taken from ESPN)\n",
        "tyson_data = {\n",
        "    \"wins\": 50,\n",
        "    \"kos\": 44,\n",
        "    \"losses\": 6,\n",
        "    \"age\": 58,\n",
        "    \"height\": 70,\n",
        "    \"reach\": 71,\n",
        "    \"experience_factor\": 2\n",
        "}\n",
        "\n",
        "# Jake Paul's data (Taken from ESPN)\n",
        "paul_data = {\n",
        "    \"wins\": 10,\n",
        "    \"kos\": 7,\n",
        "    \"losses\": 1,\n",
        "    \"age\": 27,\n",
        "    \"height\": 73,\n",
        "    \"reach\": 76,\n",
        "    \"experience_factor\": 0.8\n",
        "}"
      ],
      "metadata": {
        "id": "2FnHWbtVN4G9"
      },
      "execution_count": null,
      "outputs": []
    },
    {
      "cell_type": "markdown",
      "source": [
        "## Calculate Fighter Score"
      ],
      "metadata": {
        "id": "PulVo8-2N7eL"
      }
    },
    {
      "cell_type": "code",
      "source": [
        "# Calculate fighter scores\n",
        "tyson_score = fighter_score(tyson_data[\"wins\"], tyson_data[\"kos\"], tyson_data[\"losses\"], tyson_data[\"age\"],\n",
        "                            tyson_data[\"height\"], tyson_data[\"reach\"], tyson_data[\"experience_factor\"])\n",
        "\n",
        "paul_score = fighter_score(paul_data[\"wins\"], paul_data[\"kos\"], paul_data[\"losses\"], paul_data[\"age\"],\n",
        "                           paul_data[\"height\"], paul_data[\"reach\"], paul_data[\"experience_factor\"])"
      ],
      "metadata": {
        "id": "Im-n-w5GN9Xn"
      },
      "execution_count": null,
      "outputs": []
    },
    {
      "cell_type": "markdown",
      "source": [
        "## Calculate Probability"
      ],
      "metadata": {
        "id": "Pg2WYH9DN-iz"
      }
    },
    {
      "cell_type": "code",
      "source": [
        "# Betting odds for Tyson and Paul (Taken from ESPN)\n",
        "odds_tyson = 170\n",
        "odds_paul = -210\n",
        "\n",
        "# Calculate fair value probabilities\n",
        "tyson_probability, paul_probability = calculate_fair_value_probability(tyson_score, paul_score, odds_tyson, odds_paul)\n",
        "\n",
        "# Convert to percentage format\n",
        "tyson_probability, paul_probability = tyson_probability * 100, paul_probability * 100"
      ],
      "metadata": {
        "id": "GcIQNTH8OAS1"
      },
      "execution_count": null,
      "outputs": []
    },
    {
      "cell_type": "markdown",
      "source": [
        "## Display Results"
      ],
      "metadata": {
        "id": "qou6tpMxOC-z"
      }
    },
    {
      "cell_type": "code",
      "source": [
        "# Print the results\n",
        "print(f\"Mike Tyson's fair value probability: {tyson_probability:.2f}%\")\n",
        "print(f\"Jake Paul's fair value probability: {paul_probability:.2f}%\")\n",
        "print(f\"Sum of probabilities: {tyson_probability + paul_probability:.2f}%\")"
      ],
      "metadata": {
        "colab": {
          "base_uri": "https://localhost:8080/"
        },
        "id": "SkPVVLnHOEGJ",
        "outputId": "4410a1d6-453f-4e9d-d0d6-d18c11930864"
      },
      "execution_count": null,
      "outputs": [
        {
          "output_type": "stream",
          "name": "stdout",
          "text": [
            "Mike Tyson's fair value probability: 66.92%\n",
            "Jake Paul's fair value probability: 33.08%\n",
            "Sum of probabilities: 100.00%\n"
          ]
        }
      ]
    }
  ]
}